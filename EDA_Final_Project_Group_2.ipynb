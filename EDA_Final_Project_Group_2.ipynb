{
  "cells": [
    {
      "cell_type": "markdown",
      "metadata": {},
      "source": [
        "# (Judul Project)\n",
        "\n",
        ">Project by:\n",
        "- [Muhammad Azhar Khaira](https://www.linkedin.com/in/azharkhaira/) (Data Scientist)\n",
        "- [Yuzal Qushoyyi Wahyudi](https://www.linkedin.com/in/yuzalqushoyyiwahyudi/) (Data Engineer)\n",
        "- [Astrila Ikhlasia Eprina](https://www.linkedin.com/in/astrilalia/) (Data Analyst)"
      ]
    },
    {
      "cell_type": "markdown",
      "metadata": {
        "id": "8xJCVntBZHG-"
      },
      "source": [
        "# A. Pendahuluan\n",
        "\n",
        "**Ringkasan Data:**\n",
        "- Sumber dataset: [Kaggle - Customer Churn Dataset](https://www.kaggle.com/datasets/muhammadshahidazeem/customer-churn-dataset)\n",
        "- Dataset ini berguna untuk menganalisis dan memprediksi churn pelanggan, yaitu situasi di mana pelanggan berhenti menggunakan layanan suatu perusahaan.\n",
        "- Nama kolom dan isi kolom pada Dataset ini:\n",
        "\n",
        "| Nama Kolom | Keterangan Isi Kolom|\n",
        "| -----------| ----------|\n",
        "|1. **CustomerID** | ID unik untuk setiap pelanggan.|\n",
        "|2. **Age** | Usia pelanggan.|\n",
        "|3. **Gender** | Jenis kelamin pelanggan (Male/Female).|\n",
        "|4. **Tenure** | Lama pelanggan berlangganan dalam bulan.|\n",
        "|5. **Usage Frequency** | Frekuensi penggunaan layanan oleh pelanggan.|\n",
        "|6. **Support Calls** | Jumlah panggilan dukungan yang dilakukan pelanggan.|\n",
        "|7. **Payment Delay** | Jumlah hari keterlambatan pembayaran oleh pelanggan.|\n",
        "|8. **Subscription Type** | Tipe langganan pelanggan (misalnya, Basic, Standard).|\n",
        "|9. **Contract Length** | Durasi kontrak langganan (misalnya, Monthly, Annual).|\n",
        "|10. **Total Spend** | Total pengeluaran pelanggan selama berlangganan.|\n",
        "|11. **Last Interaction** | Jumlah hari sejak interaksi terakhir pelanggan dengan layanan.|\n",
        "|12. **Churn** _(Target)_ | Status apakah pelanggan berhenti berlangganan atau tidak (1 untuk churn, 0 untuk tidak).|\n",
        "\n",
        "#### **Latar Belakang:**\n",
        "- Berdasarkan publikasi statistik dari Kementerian Perdagangan tentang **PERDAGANGAN DIGITAL (_E-COMMERCE_) INDONESIA PERIODE 2023**, menyatakan bahwa _e-commerce_ di Indonesia telah mengalami pertumbuhan yang signifikan dari 2019 hingga 2023, menjadikannya salah satu pasar _e-commerce_ terbesar di Asia Tenggara. Peningkatan akses internet, adopsi _smartphone_, dan perubahan perilaku konsumen telah mendorong perkembangan ini. Namun, meskipun pasar _e-commerce_ di Indonesia berkembang pesat, perusahaan-perusahaan _e-commerce_ menghadapi tantangan besar, salah satunya adalah `churn pelanggan`.\n",
        "\n",
        "#### **Pernyataan Masalah:**\n",
        "- Pelanggan adalah aset penting bagi perusahaan, dan perpindahan pelanggan (customer churn) dapat mengancam keberlanjutan bisnis, terutama dalam industri _e-commerce_ yang kompetitif. Tingginya biaya akuisisi pelanggan baru dan dampak negatif churn terhadap pendapatan dan reputasi, penting bagi perusahaan untuk mengembangkan model prediksi churn yang efektif.\n",
        "\n",
        "#### **Objektif:**\n",
        "- Membuat model prediksi dan model clustering yang bertujuan untuk memprediksi churn dan memberikan rekomendasi untuk toko online guna membantu perusahaan _e-commerce_ dalam mempertahankan pelanggan dan mengurangi risiko kehilangan pangsa pasar.\n"
      ]
    },
    {
      "cell_type": "markdown",
      "metadata": {},
      "source": [
        "# B. Import Libraries"
      ]
    },
    {
      "cell_type": "markdown",
      "metadata": {},
      "source": [
        "# C. Data Loading"
      ]
    },
    {
      "cell_type": "markdown",
      "metadata": {},
      "source": []
    }
  ],
  "metadata": {
    "colab": {
      "provenance": []
    },
    "kernelspec": {
      "display_name": "Python 3",
      "name": "python3"
    },
    "language_info": {
      "name": "python"
    }
  },
  "nbformat": 4,
  "nbformat_minor": 0
}
